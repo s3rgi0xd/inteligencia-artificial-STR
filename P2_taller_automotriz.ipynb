{
  "cells": [
    {
      "cell_type": "markdown",
      "metadata": {
        "id": "view-in-github",
        "colab_type": "text"
      },
      "source": [
        "<a href=\"https://colab.research.google.com/github/s3rgi0xd/inteligencia-artificial-STR/blob/main/P2_taller_automotriz.ipynb\" target=\"_parent\"><img src=\"https://colab.research.google.com/assets/colab-badge.svg\" alt=\"Open In Colab\"/></a>"
      ]
    },
    {
      "cell_type": "code",
      "source": [
        "# Lista para almacenar los repuestos: [nombre_repuesto, cantidad_disponible, cantidad_minima]\n",
        "inventario = []\n",
        "\n",
        "# Función para agregar un repuesto al inventario\n",
        "def agregar_repuesto(nombre, cantidad, cantidad_minima):\n",
        "    inventario.append([nombre, cantidad, cantidad_minima])\n",
        "    print(f\"Repuesto '{nombre}' agregado con éxito.\")\n",
        "    verificar_inventario(nombre)"
      ],
      "metadata": {
        "id": "-1yq4HOT8W-N"
      },
      "execution_count": 12,
      "outputs": []
    },
    {
      "cell_type": "code",
      "execution_count": 13,
      "metadata": {
        "id": "wy3eQ52BY91e"
      },
      "outputs": [],
      "source": [
        "# Función para eliminar cierta cantidad de un repuesto del inventario\n",
        "def eliminar_cantidad_repuesto(nombre, cantidad_eliminar):\n",
        "    for repuesto in inventario:\n",
        "        if repuesto[0] == nombre:\n",
        "            if repuesto[1] >= cantidad_eliminar:\n",
        "                repuesto[1] -= cantidad_eliminar\n",
        "                print(f\"Se eliminaron {cantidad_eliminar} unidades de '{nombre}'.\")\n",
        "                if repuesto[1] == 0:\n",
        "                    inventario.remove(repuesto)\n",
        "                    print(f\"Se ha eliminado completamente el repuesto '{nombre}' del inventario.\")\n",
        "                else:\n",
        "                    verificar_inventario(nombre)\n",
        "            else:\n",
        "                print(f\"No es posible eliminar {cantidad_eliminar} unidades de '{nombre}'. Solo hay {repuesto[1]} unidades disponibles.\")\n",
        "            return\n",
        "    print(f\"Repuesto '{nombre}' no encontrado en el inventario.\")\n"
      ]
    },
    {
      "cell_type": "code",
      "source": [
        "# Función para verificar si el inventario está en la cantidad mínima o por debajo\n",
        "def verificar_inventario(nombre):\n",
        "    for repuesto in inventario:\n",
        "        if repuesto[0] == nombre and repuesto[1] <= repuesto[2]:\n",
        "            print(f\"Advertencia: El repuesto '{nombre}' está por debajo de la cantidad mínima ({repuesto[2]} unidades). Necesitas comprar más.\")"
      ],
      "metadata": {
        "id": "VFJw7kBD8dhS"
      },
      "execution_count": 14,
      "outputs": []
    },
    {
      "cell_type": "code",
      "source": [
        "# Función para consultar el inventario\n",
        "def consultar_inventario():\n",
        "    if not inventario:\n",
        "        print(\"El inventario está vacío.\")\n",
        "    else:\n",
        "        print(\"Inventario actual:\")\n",
        "        for repuesto in inventario:\n",
        "            print(f\"Repuesto: {repuesto[0]}, Cantidad: {repuesto[1]}, Cantidad mínima: {repuesto[2]}\")\n",
        "            verificar_inventario(repuesto[0])"
      ],
      "metadata": {
        "id": "XM822w0-8per"
      },
      "execution_count": 15,
      "outputs": []
    },
    {
      "cell_type": "code",
      "source": [
        "# Función para realizar una compra si el inventario está bajo\n",
        "def comprar_repuesto(nombre, cantidad_comprada):\n",
        "    for repuesto in inventario:\n",
        "        if repuesto[0] == nombre:\n",
        "            repuesto[1] += cantidad_comprada\n",
        "            print(f\"Se compraron {cantidad_comprada} unidades de '{nombre}'.\")\n",
        "            verificar_inventario(nombre)\n",
        "            return\n",
        "    print(f\"Repuesto '{nombre}' no encontrado en el inventario.\")\n"
      ],
      "metadata": {
        "id": "SHeDablyz1tF"
      },
      "execution_count": 16,
      "outputs": []
    },
    {
      "cell_type": "code",
      "source": [
        "# Menú principal\n",
        "def menu():\n",
        "    while True:\n",
        "        print(\"\\n--- Taller Automotriz: Gestión de Inventario ---\")\n",
        "        print(\"1. Agregar repuesto\")\n",
        "        print(\"2. Eliminar cantidad de repuesto\")\n",
        "        print(\"3. Consultar inventario\")\n",
        "        print(\"4. Comprar repuesto\")\n",
        "        print(\"5. Salir\")\n",
        "\n",
        "        opcion = input(\"Selecciona una opción: \")\n",
        "\n",
        "        if opcion == \"1\":\n",
        "            nombre = input(\"Nombre del repuesto: \")\n",
        "            cantidad = int(input(\"Cantidad disponible: \"))\n",
        "            cantidad_minima = int(input(\"Cantidad mínima para compra: \"))\n",
        "            agregar_repuesto(nombre, cantidad, cantidad_minima)\n",
        "\n",
        "        elif opcion == \"2\":\n",
        "            nombre = input(\"Nombre del repuesto a eliminar: \")\n",
        "            cantidad_eliminar = int(input(\"Cantidad a eliminar: \"))\n",
        "            eliminar_cantidad_repuesto(nombre, cantidad_eliminar)\n",
        "\n",
        "        elif opcion == \"3\":\n",
        "            consultar_inventario()\n",
        "\n",
        "        elif opcion == \"4\":\n",
        "            nombre = input(\"Nombre del repuesto para comprar: \")\n",
        "            cantidad_comprada = int(input(\"Cantidad a comprar: \"))\n",
        "            comprar_repuesto(nombre, cantidad_comprada)\n",
        "\n",
        "        elif opcion == \"5\":\n",
        "            print(\"Saliendo del programa.\")\n",
        "            break\n",
        "\n",
        "        else:\n",
        "            print(\"Opción no válida, por favor selecciona otra.\")\n",
        "\n",
        "# Ejecutar el menú principal\n",
        "menu()\n"
      ],
      "metadata": {
        "colab": {
          "base_uri": "https://localhost:8080/"
        },
        "id": "13n4yt8Lz47e",
        "outputId": "ed8b713f-db75-4e8f-b5fc-9516e1b9971c"
      },
      "execution_count": 17,
      "outputs": [
        {
          "output_type": "stream",
          "name": "stdout",
          "text": [
            "\n",
            "--- Taller Automotriz: Gestión de Inventario ---\n",
            "1. Agregar repuesto\n",
            "2. Eliminar cantidad de repuesto\n",
            "3. Consultar inventario\n",
            "4. Comprar repuesto\n",
            "5. Salir\n",
            "Selecciona una opción: 3\n",
            "El inventario está vacío.\n",
            "\n",
            "--- Taller Automotriz: Gestión de Inventario ---\n",
            "1. Agregar repuesto\n",
            "2. Eliminar cantidad de repuesto\n",
            "3. Consultar inventario\n",
            "4. Comprar repuesto\n",
            "5. Salir\n",
            "Selecciona una opción: 1\n",
            "Nombre del repuesto: tornillos\n",
            "Cantidad disponible: 8\n",
            "Cantidad mínima para compra: 10\n",
            "Repuesto 'tornillos' agregado con éxito.\n",
            "Advertencia: El repuesto 'tornillos' está por debajo de la cantidad mínima (10 unidades). Necesitas comprar más.\n",
            "\n",
            "--- Taller Automotriz: Gestión de Inventario ---\n",
            "1. Agregar repuesto\n",
            "2. Eliminar cantidad de repuesto\n",
            "3. Consultar inventario\n",
            "4. Comprar repuesto\n",
            "5. Salir\n",
            "Selecciona una opción: 3\n",
            "Inventario actual:\n",
            "Repuesto: tornillos, Cantidad: 8, Cantidad mínima: 10\n",
            "Advertencia: El repuesto 'tornillos' está por debajo de la cantidad mínima (10 unidades). Necesitas comprar más.\n",
            "\n",
            "--- Taller Automotriz: Gestión de Inventario ---\n",
            "1. Agregar repuesto\n",
            "2. Eliminar cantidad de repuesto\n",
            "3. Consultar inventario\n",
            "4. Comprar repuesto\n",
            "5. Salir\n",
            "Selecciona una opción: 4\n",
            "Nombre del repuesto para comprar: tornillos\n",
            "Cantidad a comprar: 5\n",
            "Se compraron 5 unidades de 'tornillos'.\n",
            "\n",
            "--- Taller Automotriz: Gestión de Inventario ---\n",
            "1. Agregar repuesto\n",
            "2. Eliminar cantidad de repuesto\n",
            "3. Consultar inventario\n",
            "4. Comprar repuesto\n",
            "5. Salir\n",
            "Selecciona una opción: 3\n",
            "Inventario actual:\n",
            "Repuesto: tornillos, Cantidad: 13, Cantidad mínima: 10\n",
            "\n",
            "--- Taller Automotriz: Gestión de Inventario ---\n",
            "1. Agregar repuesto\n",
            "2. Eliminar cantidad de repuesto\n",
            "3. Consultar inventario\n",
            "4. Comprar repuesto\n",
            "5. Salir\n",
            "Selecciona una opción: 2\n",
            "Nombre del repuesto a eliminar: tornillos\n",
            "Cantidad a eliminar: 7\n",
            "Se eliminaron 7 unidades de 'tornillos'.\n",
            "Advertencia: El repuesto 'tornillos' está por debajo de la cantidad mínima (10 unidades). Necesitas comprar más.\n",
            "\n",
            "--- Taller Automotriz: Gestión de Inventario ---\n",
            "1. Agregar repuesto\n",
            "2. Eliminar cantidad de repuesto\n",
            "3. Consultar inventario\n",
            "4. Comprar repuesto\n",
            "5. Salir\n",
            "Selecciona una opción: 3\n",
            "Inventario actual:\n",
            "Repuesto: tornillos, Cantidad: 6, Cantidad mínima: 10\n",
            "Advertencia: El repuesto 'tornillos' está por debajo de la cantidad mínima (10 unidades). Necesitas comprar más.\n",
            "\n",
            "--- Taller Automotriz: Gestión de Inventario ---\n",
            "1. Agregar repuesto\n",
            "2. Eliminar cantidad de repuesto\n",
            "3. Consultar inventario\n",
            "4. Comprar repuesto\n",
            "5. Salir\n",
            "Selecciona una opción: 5\n",
            "Saliendo del programa.\n"
          ]
        }
      ]
    }
  ],
  "metadata": {
    "colab": {
      "provenance": [],
      "authorship_tag": "ABX9TyNXkpiqteyQo4knd+eKNIDz",
      "include_colab_link": true
    },
    "kernelspec": {
      "display_name": "Python 3",
      "name": "python3"
    },
    "language_info": {
      "name": "python"
    }
  },
  "nbformat": 4,
  "nbformat_minor": 0
}