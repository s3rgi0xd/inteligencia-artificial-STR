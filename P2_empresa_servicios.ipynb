{
  "nbformat": 4,
  "nbformat_minor": 0,
  "metadata": {
    "colab": {
      "provenance": [],
      "authorship_tag": "ABX9TyOCChV89JuRFkIbEnKm4FzI",
      "include_colab_link": true
    },
    "kernelspec": {
      "name": "python3",
      "display_name": "Python 3"
    },
    "language_info": {
      "name": "python"
    }
  },
  "cells": [
    {
      "cell_type": "markdown",
      "metadata": {
        "id": "view-in-github",
        "colab_type": "text"
      },
      "source": [
        "<a href=\"https://colab.research.google.com/github/s3rgi0xd/inteligencia-artificial-STR/blob/main/P2_empresa_servicios.ipynb\" target=\"_parent\"><img src=\"https://colab.research.google.com/assets/colab-badge.svg\" alt=\"Open In Colab\"/></a>"
      ]
    },
    {
      "cell_type": "code",
      "execution_count": 10,
      "metadata": {
        "id": "S00joQPj-g2L"
      },
      "outputs": [],
      "source": [
        "# Definir la clase para gestionar los empleados, proyectos, horas y tarifas\n",
        "class Empleado:\n",
        "    def __init__(self, nombre, tarifa_por_hora):\n",
        "        self.nombre = nombre\n",
        "        self.tarifa_por_hora = tarifa_por_hora\n",
        "        self.proyectos = {}\n",
        "\n",
        "    def agregar_horas(self, proyecto, horas):\n",
        "        if proyecto in self.proyectos:\n",
        "            self.proyectos[proyecto] += horas\n",
        "        else:\n",
        "            self.proyectos[proyecto] = horas\n",
        "\n",
        "    def horas_totales(self):\n",
        "        return sum(self.proyectos.values())\n",
        "\n",
        "    def costo_total(self):\n",
        "        return self.horas_totales() * self.tarifa_por_hora"
      ]
    },
    {
      "cell_type": "code",
      "source": [
        "# Función para ingresar información de los empleados y sus horas\n",
        "def ingresar_datos():\n",
        "    empleados = []\n",
        "    while True:\n",
        "        nombre = input(\"Ingrese el nombre del empleado (o 'salir' para finalizar): \")\n",
        "        if nombre.lower() == 'salir':\n",
        "            break\n",
        "        tarifa_por_hora = float(input(f\"Ingrese la tarifa por hora de {nombre}: \"))\n",
        "\n",
        "        empleado = Empleado(nombre, tarifa_por_hora)\n",
        "\n",
        "        while True:\n",
        "            proyecto = input(f\"Ingrese el nombre del proyecto para {nombre} (o 'salir' para finalizar): \")\n",
        "            if proyecto.lower() == 'salir':\n",
        "                break\n",
        "            horas = float(input(f\"Ingrese las horas trabajadas en {proyecto}: \"))\n",
        "            empleado.agregar_horas(proyecto, horas)\n",
        "\n",
        "        empleados.append(empleado)\n",
        "    return empleados"
      ],
      "metadata": {
        "id": "Ru1_fNEYRf7f"
      },
      "execution_count": 11,
      "outputs": []
    },
    {
      "cell_type": "code",
      "source": [
        "# Función para mostrar el resumen de horas trabajadas y costos\n",
        "def mostrar_resumen(empleados):\n",
        "    for empleado in empleados:\n",
        "        print(f\"\\nEmpleado: {empleado.nombre}\")\n",
        "        print(f\"Horas totales trabajadas: {empleado.horas_totales()}\")\n",
        "        print(f\"Costo total: ${empleado.costo_total():.2f}\")\n",
        "        print(\"-\" * 30)"
      ],
      "metadata": {
        "id": "_Gf7uPJYRlTh"
      },
      "execution_count": 12,
      "outputs": []
    },
    {
      "cell_type": "code",
      "source": [
        "# Programa principal\n",
        "def main():\n",
        "    print(\"Registro de horas trabajadas por empleados en proyectos\\n\")\n",
        "\n",
        "    empleados = ingresar_datos()\n",
        "\n",
        "    mostrar_resumen(empleados)\n",
        "\n",
        "if __name__ == \"__main__\":\n",
        "    main()"
      ],
      "metadata": {
        "colab": {
          "base_uri": "https://localhost:8080/"
        },
        "id": "W6PxaXBbRpVo",
        "outputId": "8227d559-48f9-4f40-da66-3a125e64b308"
      },
      "execution_count": 13,
      "outputs": [
        {
          "output_type": "stream",
          "name": "stdout",
          "text": [
            "Registro de horas trabajadas por empleados en proyectos\n",
            "\n",
            "Ingrese el nombre del empleado (o 'salir' para finalizar): Sergio\n",
            "Ingrese la tarifa por hora de Sergio: 45\n",
            "Ingrese el nombre del proyecto para Sergio (o 'salir' para finalizar): A\n",
            "Ingrese las horas trabajadas en A: 6\n",
            "Ingrese el nombre del proyecto para Sergio (o 'salir' para finalizar): B\n",
            "Ingrese las horas trabajadas en B: 4\n",
            "Ingrese el nombre del proyecto para Sergio (o 'salir' para finalizar): salir\n",
            "Ingrese el nombre del empleado (o 'salir' para finalizar): Isa\n",
            "Ingrese la tarifa por hora de Isa: 50\n",
            "Ingrese el nombre del proyecto para Isa (o 'salir' para finalizar): C\n",
            "Ingrese las horas trabajadas en C: 8\n",
            "Ingrese el nombre del proyecto para Isa (o 'salir' para finalizar): salir\n",
            "Ingrese el nombre del empleado (o 'salir' para finalizar): salir\n",
            "\n",
            "Empleado: Sergio\n",
            "Horas totales trabajadas: 10.0\n",
            "Costo total: $450.00\n",
            "------------------------------\n",
            "\n",
            "Empleado: Isa\n",
            "Horas totales trabajadas: 8.0\n",
            "Costo total: $400.00\n",
            "------------------------------\n"
          ]
        }
      ]
    }
  ]
}