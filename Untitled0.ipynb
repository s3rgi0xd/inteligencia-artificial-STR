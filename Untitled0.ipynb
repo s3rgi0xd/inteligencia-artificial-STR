{
  "nbformat": 4,
  "nbformat_minor": 0,
  "metadata": {
    "colab": {
      "provenance": [],
      "toc_visible": true,
      "authorship_tag": "ABX9TyMLOlnjEz5McsgoaPDNc8pD",
      "include_colab_link": true
    },
    "kernelspec": {
      "name": "python3",
      "display_name": "Python 3"
    },
    "language_info": {
      "name": "python"
    }
  },
  "cells": [
    {
      "cell_type": "markdown",
      "metadata": {
        "id": "view-in-github",
        "colab_type": "text"
      },
      "source": [
        "<a href=\"https://colab.research.google.com/github/s3rgi0xd/inteligencia-artificial-STR/blob/main/Untitled0.ipynb\" target=\"_parent\"><img src=\"https://colab.research.google.com/assets/colab-badge.svg\" alt=\"Open In Colab\"/></a>"
      ]
    },
    {
      "cell_type": "markdown",
      "source": [
        "# Evaluación\n",
        "\n",
        "---\n",
        "\n",
        "AND  \n",
        "00 -> 0  \n",
        "01 -> 0  \n",
        "10 -> 0  \n",
        "11 -> 1   \n",
        "\n",
        "OR  \n",
        "00 -> 0  \n",
        "01 -> 1  \n",
        "10 -> 1  \n",
        "11 -> 1"
      ],
      "metadata": {
        "id": "f7Huuxa8DNye"
      }
    },
    {
      "cell_type": "code",
      "execution_count": 9,
      "metadata": {
        "colab": {
          "base_uri": "https://localhost:8080/"
        },
        "id": "lAmasATyCqqh",
        "outputId": "427ed65b-dda1-4230-d984-7ca5a1c738a0"
      },
      "outputs": [
        {
          "output_type": "stream",
          "name": "stdout",
          "text": [
            "Introduce el valor para X0 (0 o 1): 0\n",
            "Introduce el valor para X1 (0 o 1): 0\n",
            "\n",
            "Resultados:\n",
            "0 AND 0 = 0\n",
            "0 OR 0 = 0\n",
            "\n",
            "¿Deseas introducir otro valor? (s/n): s\n",
            "Introduce el valor para X0 (0 o 1): 0\n",
            "Introduce el valor para X1 (0 o 1): 1\n",
            "\n",
            "Resultados:\n",
            "0 AND 1 = 0\n",
            "0 OR 1 = 1\n",
            "\n",
            "¿Deseas introducir otro valor? (s/n): s\n",
            "Introduce el valor para X0 (0 o 1): 1\n",
            "Introduce el valor para X1 (0 o 1): 0\n",
            "\n",
            "Resultados:\n",
            "1 AND 0 = 0\n",
            "1 OR 0 = 1\n",
            "\n",
            "¿Deseas introducir otro valor? (s/n): s\n",
            "Introduce el valor para X0 (0 o 1): 1\n",
            "Introduce el valor para X1 (0 o 1): 1\n",
            "\n",
            "Resultados:\n",
            "1 AND 1 = 1\n",
            "1 OR 1 = 1\n",
            "\n",
            "¿Deseas introducir otro valor? (s/n): n\n",
            "Programa finalizado.\n"
          ]
        }
      ],
      "source": [
        "while True: # Bucle infinito\n",
        "    # Solicitar los valores de entrada para X0 y X1\n",
        "    x0 = int(input(\"Introduce el valor para X0 (0 o 1): \"))\n",
        "    x1 = int(input(\"Introduce el valor para X1 (0 o 1): \"))\n",
        "\n",
        "    # Validar que los valores sean 0 o 1\n",
        "    if x0 not in [0, 1] or x1 not in [0, 1]:\n",
        "        print(\"Por favor, introduce solo valores 0 o 1.\")\n",
        "        continue  # Si no son válidos, vuelve al inicio del bucle\n",
        "\n",
        "    # Asignación de valores de entrada y pesos\n",
        "    x = [x0, x1]\n",
        "    w = [1, 1]\n",
        "\n",
        "    # Cálculo para la compuerta AND\n",
        "    s_and = -1  # sesgo para AND\n",
        "    for i in range(0, 2):\n",
        "        s_and = s_and + x[i] * w[i]\n",
        "    y_and = 1 if s_and > 0 else 0\n",
        "\n",
        "    # Cálculo para la compuerta OR\n",
        "    s_or = 0  # sesgo para OR\n",
        "    for i in range(0, 2):\n",
        "        s_or = s_or + x[i] * w[i]\n",
        "    y_or = 1 if s_or > 0 else 0\n",
        "\n",
        "    # Imprimir los resultados de ambas compuertas\n",
        "    print(f\"\\nResultados:\")\n",
        "    print(f\"{x[0]} AND {x[1]} = {y_and}\")\n",
        "    print(f\"{x[0]} OR {x[1]} = {y_or}\")\n",
        "\n",
        "    # Preguntar si se desea introducir otro valor\n",
        "    otra_vez = input(\"\\n¿Deseas introducir otro valor? (s/n): \").lower()\n",
        "    if otra_vez != 's':\n",
        "        print(\"Programa finalizado.\")\n",
        "        break  # Sale del bucle"
      ]
    }
  ]
}