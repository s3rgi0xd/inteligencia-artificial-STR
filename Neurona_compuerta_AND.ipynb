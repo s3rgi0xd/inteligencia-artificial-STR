{
  "nbformat": 4,
  "nbformat_minor": 0,
  "metadata": {
    "colab": {
      "provenance": [],
      "authorship_tag": "ABX9TyMlEBAElrdXrJL7M3xzXObZ",
      "include_colab_link": true
    },
    "kernelspec": {
      "name": "python3",
      "display_name": "Python 3"
    },
    "language_info": {
      "name": "python"
    }
  },
  "cells": [
    {
      "cell_type": "markdown",
      "metadata": {
        "id": "view-in-github",
        "colab_type": "text"
      },
      "source": [
        "<a href=\"https://colab.research.google.com/github/s3rgi0xd/inteligencia-artificial-STR/blob/main/Neurona_compuerta_AND.ipynb\" target=\"_parent\"><img src=\"https://colab.research.google.com/assets/colab-badge.svg\" alt=\"Open In Colab\"/></a>"
      ]
    },
    {
      "cell_type": "markdown",
      "source": [
        "# Neurona aprendizaje compuerta AND\n",
        "\n",
        "---\n",
        "00 -> 0  \n",
        "01 -> 0  \n",
        "10 -> 0  \n",
        "11 -> 1  "
      ],
      "metadata": {
        "id": "Au3NAKY6mwkM"
      }
    },
    {
      "cell_type": "code",
      "execution_count": 6,
      "metadata": {
        "colab": {
          "base_uri": "https://localhost:8080/"
        },
        "id": "Ilcpgn2xg0Cn",
        "outputId": "68d666fe-1d7f-4107-d992-6cc763a68f93"
      },
      "outputs": [
        {
          "output_type": "stream",
          "name": "stdout",
          "text": [
            "0\n",
            "0 AND 1 = 0\n"
          ]
        }
      ],
      "source": [
        "x = [0, 1]\n",
        "w = [1, 1]\n",
        "s = -1\n",
        "y = 0\n",
        "\n",
        "for i in range(0, 2):\n",
        "    s = s + x[i] * w[i]\n",
        "print(s)\n",
        "\n",
        "y = 1 if s > 0 else 0\n",
        "print(x[0], 'AND', x[1], '=', y)"
      ]
    }
  ]
}